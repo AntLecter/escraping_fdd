{
 "cells": [
  {
   "cell_type": "markdown",
   "id": "f9582a54",
   "metadata": {},
   "source": [
    "# Tarea de Scraping Web con Python y Selenium\n",
    "\n",
    "## Objetivo\n",
    "Desarrollar habilidades prácticas en scraping web utilizando Python con Selenium y BeautifulSoup. Se espera que manejen el navegador de forma programática para extraer datos dinámicos de un sitio web específico y que realicen un análisis básico de los datos obtenidos.\n",
    "\n",
    "## Instrucciones\n",
    "1. Configura tu entorno de desarrollo instalando las librerías necesarias: Selenium, BeautifulSoup, pandas, entre otras que consideres necesarias.\n",
    "2. Configura un navegador usando Selenium. Debes asegurarte de incluir opciones como el modo incógnito y el modo sin interfaz gráfica (headless).\n",
    "3. Elige un sitio web que ofrezca datos dinámicos y sea legal para hacer scraping (por ejemplo, datos meteorológicos, precios de productos, cotizaciones de bolsa).\n",
    "4. Navega al sitio web utilizando Selenium, realiza búsquedas o filtra datos si es necesario utilizando interacciones del navegador.\n",
    "5. Extrae datos relevantes usando Selenium y BeautifulSoup. Debes obtener al menos tres tipos de datos relacionados (por ejemplo, nombre del producto, precio y categoría).\n",
    "6. Limpia y organiza los datos extraídos en un DataFrame de pandas.\n",
    "7. Realiza un análisis básico de los datos: puede ser estadístico descriptivo o alguna visualización simple.\n",
    "8. Documenta cada paso del proceso con comentarios en el código y celdas Markdown explicando las decisiones y métodos utilizados.\n",
    "\n",
    "## Criterios de Evaluación\n",
    "- Correcta configuración y uso de Selenium y BeautifulSoup.\n",
    "- Capacidad para navegar y extraer datos de forma efectiva y eficiente.\n",
    "- Limpieza y estructuración adecuada de los datos extraídos.\n",
    "- Calidad del análisis realizado y claridad en la documentación.\n",
    "\n",
    "## Entrega\n",
    "- Debes entregar este cuaderno Jupyter completado con todo el código, análisis y documentación solicitada.\n",
    "\n",
    "¡Buena suerte y que disfrutes del proceso de aprendizaje y exploración de datos!\n"
   ]
  },
  {
   "cell_type": "markdown",
   "id": "6f49e43b",
   "metadata": {},
   "source": [
    "1. Configura tu entorno de desarrollo instalando las librerías necesarias: Selenium, BeautifulSoup, pandas, entre otras que consideres necesarias."
   ]
  },
  {
   "cell_type": "code",
   "execution_count": 98,
   "id": "1a2c6509",
   "metadata": {},
   "outputs": [],
   "source": [
    "from bs4 import BeautifulSoup\n",
    "from selenium import webdriver\n",
    "from selenium.common.exceptions import WebDriverException\n",
    "import pandas as pd\n",
    "import matplotlib.pyplot as plt\n",
    "from datetime import date\n",
    "import undetected_chromedriver as uc\n",
    "import time"
   ]
  },
  {
   "cell_type": "markdown",
   "id": "856ae799",
   "metadata": {},
   "source": [
    "2. Configura un navegador usando Selenium. Debes asegurarte de incluir opciones como el modo incógnito y el modo sin interfaz gráfica (headless)."
   ]
  },
  {
   "cell_type": "code",
   "execution_count": 99,
   "id": "c379aa64",
   "metadata": {},
   "outputs": [],
   "source": [
    "options = uc.ChromeOptions()\n",
    "options.headless = True\n",
    "options.add_argument(\"--incognito\")\n",
    "options.add_argument(\"--disable-infobars\")\n",
    "options.add_argument(\"--headless\") \n",
    "driver = uc.Chrome(options=options)"
   ]
  },
  {
   "cell_type": "markdown",
   "id": "3a373241",
   "metadata": {},
   "source": [
    "3. Elige un sitio web que ofrezca datos dinámicos y sea legal para hacer scraping (por ejemplo, datos meteorológicos, precios de productos, cotizaciones de bolsa)."
   ]
  },
  {
   "cell_type": "code",
   "execution_count": 100,
   "id": "22312712",
   "metadata": {},
   "outputs": [],
   "source": [
    "home_link = \"https://www.ebay.com/\"\n",
    "search_kw = \"iphone x\".replace(\" \",\"+\")\n",
    "\n",
    "driver.get(home_link+\"/sch/i.html?_from=R40&_trksid=p2047675.m570.l1313&_nkw=\"+search_kw+\"&_sacat=0\")"
   ]
  },
  {
   "cell_type": "markdown",
   "id": "415047ea",
   "metadata": {},
   "source": [
    "4. Navega al sitio web utilizando Selenium, realiza búsquedas o filtra datos si es necesario utilizando interacciones del navegador."
   ]
  },
  {
   "cell_type": "code",
   "execution_count": 101,
   "id": "f0526ecc",
   "metadata": {},
   "outputs": [
    {
     "name": "stdout",
     "output_type": "stream",
     "text": [
      "Capturando pantalla...\n"
     ]
    }
   ],
   "source": [
    "print(\"Capturando pantalla...\")\n",
    "driver.save_screenshot(\"screenshot.png\")\n",
    "\n",
    "phone_title = []\n",
    "phone_link = []\n",
    "phone_status = []\n",
    "phone_score = []\n",
    "phone_reviews_amt = []\n",
    "phone_price = []\n",
    "phone_location = []"
   ]
  },
  {
   "cell_type": "markdown",
   "id": "6838b4b0",
   "metadata": {},
   "source": [
    "5. Extrae datos relevantes usando Selenium y BeautifulSoup. Debes obtener al menos tres tipos de datos relacionados (por ejemplo, nombre del producto, precio y categoría)."
   ]
  },
  {
   "cell_type": "code",
   "execution_count": 102,
   "id": "607b645f",
   "metadata": {},
   "outputs": [],
   "source": [
    "pg_amount = 5\n",
    "page = BeautifulSoup(driver.page_source,'html.parser')\n",
    "\n",
    "for i in range(0, pg_amount):\n",
    "  for phone in page.findAll('li', attrs={'class':'s-item', 'data-view':True}):\n",
    "    title = phone.find('h3', attrs={'class':'s-item__title'})\n",
    "    if title:\n",
    "      phone_title.append(title.text)\n",
    "    else: phone_title.append('')\n",
    "\n",
    "    link = phone.find('a', attrs={'class':'s-item__link'})\n",
    "    if link:\n",
    "      phone_link.append(link['href'])\n",
    "    else: phone_link.append('')\n",
    "\n",
    "    status = phone.find('div', attrs={'class':'s-item__subtitle'})\n",
    "    if status:\n",
    "      phone_status.append(status.text)\n",
    "    else: phone_status.append('')\n",
    "\n",
    "    score = phone.find('div',attrs={'class':['b-starrating','x-star-rating']})\n",
    "    if score:\n",
    "      score.find('span', attrs={'class':'clipped'})\n",
    "      if score:\n",
    "        phone_score.append(score.text[0:3])\n",
    "      else: phone_score.append('')\n",
    "    else: phone_score.append('')\n",
    "\n",
    "    reviews_amt = phone.find('span',attrs={'class':'s-item__reviews-count'})\n",
    "    if reviews_amt:\n",
    "       phone_reviews_amt.append(reviews_amt.span.text[0:reviews_amt.span.text.find('valor')-1])\n",
    "    else: phone_reviews_amt.append('')\n",
    "\n",
    "    price = phone.find('span',attrs={'class','s-item__price'})\n",
    "    if price:\n",
    "      if ' a ' not in price.text:\n",
    "        cleaned_price = price.text[5:].replace('\\xa0', '')\n",
    "        phone_price.append(float(cleaned_price))\n",
    "      else:\n",
    "        cleaned_price = price.text.split('a')[0]\n",
    "        cleaned_price = cleaned_price[5:].replace('\\xa0', '')\n",
    "        phone_price.append(float(cleaned_price))\n",
    "    else: phone_price.append(0)\n",
    "\n",
    "    location = phone.find('span',attrs={'class':'s-item__location'})\n",
    "    if location:\n",
    "      phone_location.append(location.text[3:])\n",
    "    else: phone_location.append('')\n"
   ]
  },
  {
   "cell_type": "markdown",
   "id": "56b70fcc",
   "metadata": {},
   "source": [
    "6. Limpia y organiza los datos extraídos en un DataFrame de pandas."
   ]
  },
  {
   "cell_type": "code",
   "execution_count": 103,
   "id": "f359d3c5",
   "metadata": {},
   "outputs": [
    {
     "data": {
      "text/html": [
       "<div>\n",
       "<style scoped>\n",
       "    .dataframe tbody tr th:only-of-type {\n",
       "        vertical-align: middle;\n",
       "    }\n",
       "\n",
       "    .dataframe tbody tr th {\n",
       "        vertical-align: top;\n",
       "    }\n",
       "\n",
       "    .dataframe thead th {\n",
       "        text-align: right;\n",
       "    }\n",
       "</style>\n",
       "<table border=\"1\" class=\"dataframe\">\n",
       "  <thead>\n",
       "    <tr style=\"text-align: right;\">\n",
       "      <th></th>\n",
       "      <th>STATUS</th>\n",
       "      <th>PRICE</th>\n",
       "      <th>LOCATION</th>\n",
       "    </tr>\n",
       "  </thead>\n",
       "  <tbody>\n",
       "    <tr>\n",
       "      <th>0</th>\n",
       "      <td>Brand New</td>\n",
       "      <td>0.00</td>\n",
       "      <td></td>\n",
       "    </tr>\n",
       "    <tr>\n",
       "      <th>1</th>\n",
       "      <td>De segunda mano</td>\n",
       "      <td>2458.80</td>\n",
       "      <td>Estados Unidos</td>\n",
       "    </tr>\n",
       "    <tr>\n",
       "      <th>2</th>\n",
       "      <td>Restaurados</td>\n",
       "      <td>2325.06</td>\n",
       "      <td>Estados Unidos</td>\n",
       "    </tr>\n",
       "    <tr>\n",
       "      <th>3</th>\n",
       "      <td>Restaurados</td>\n",
       "      <td>2441.69</td>\n",
       "      <td>Estados Unidos</td>\n",
       "    </tr>\n",
       "    <tr>\n",
       "      <th>4</th>\n",
       "      <td>✅ Envío y devoluciones gratuitos ✅ 60 días de ...</td>\n",
       "      <td>2508.64</td>\n",
       "      <td>Estados Unidos</td>\n",
       "    </tr>\n",
       "    <tr>\n",
       "      <th>...</th>\n",
       "      <td>...</td>\n",
       "      <td>...</td>\n",
       "      <td>...</td>\n",
       "    </tr>\n",
       "    <tr>\n",
       "      <th>300</th>\n",
       "      <td>Para repuestos solamente</td>\n",
       "      <td>1246.01</td>\n",
       "      <td>Estados Unidos</td>\n",
       "    </tr>\n",
       "    <tr>\n",
       "      <th>301</th>\n",
       "      <td>De segunda mano</td>\n",
       "      <td>1869.02</td>\n",
       "      <td>Estados Unidos</td>\n",
       "    </tr>\n",
       "    <tr>\n",
       "      <th>302</th>\n",
       "      <td>Para repuestos solamente</td>\n",
       "      <td>1328.91</td>\n",
       "      <td>Estados Unidos</td>\n",
       "    </tr>\n",
       "    <tr>\n",
       "      <th>303</th>\n",
       "      <td>Caja abierta</td>\n",
       "      <td>2241.99</td>\n",
       "      <td>Estados Unidos</td>\n",
       "    </tr>\n",
       "    <tr>\n",
       "      <th>304</th>\n",
       "      <td>De segunda mano</td>\n",
       "      <td>2491.03</td>\n",
       "      <td>Estados Unidos</td>\n",
       "    </tr>\n",
       "  </tbody>\n",
       "</table>\n",
       "<p>305 rows × 3 columns</p>\n",
       "</div>"
      ],
      "text/plain": [
       "                                                STATUS    PRICE  \\\n",
       "0                                            Brand New     0.00   \n",
       "1                                      De segunda mano  2458.80   \n",
       "2                                          Restaurados  2325.06   \n",
       "3                                          Restaurados  2441.69   \n",
       "4    ✅ Envío y devoluciones gratuitos ✅ 60 días de ...  2508.64   \n",
       "..                                                 ...      ...   \n",
       "300                           Para repuestos solamente  1246.01   \n",
       "301                                    De segunda mano  1869.02   \n",
       "302                           Para repuestos solamente  1328.91   \n",
       "303                                       Caja abierta  2241.99   \n",
       "304                                    De segunda mano  2491.03   \n",
       "\n",
       "           LOCATION  \n",
       "0                    \n",
       "1    Estados Unidos  \n",
       "2    Estados Unidos  \n",
       "3    Estados Unidos  \n",
       "4    Estados Unidos  \n",
       "..              ...  \n",
       "300  Estados Unidos  \n",
       "301  Estados Unidos  \n",
       "302  Estados Unidos  \n",
       "303  Estados Unidos  \n",
       "304  Estados Unidos  \n",
       "\n",
       "[305 rows x 3 columns]"
      ]
     },
     "execution_count": 103,
     "metadata": {},
     "output_type": "execute_result"
    }
   ],
   "source": [
    "phone_list = pd.DataFrame({                            \n",
    "                            'STATUS':phone_status,                        \n",
    "                            'PRICE':phone_price,\n",
    "                            'LOCATION':phone_location,\n",
    "                         })\n",
    "phone_list"
   ]
  },
  {
   "cell_type": "markdown",
   "id": "d3ae210f",
   "metadata": {},
   "source": [
    "7. Realiza un análisis básico de los datos: puede ser estadístico descriptivo o alguna visualización simple."
   ]
  },
  {
   "cell_type": "code",
   "execution_count": 113,
   "id": "6040b9f0",
   "metadata": {},
   "outputs": [
    {
     "name": "stdout",
     "output_type": "stream",
     "text": [
      "Precio promedio de los teléfonos de segunda mano: 1862.1424324324323\n",
      "Precio promedio de los teléfonos restaurados: 2258.8975\n",
      "Concluimos de aquí que restaurar un iphone 10 tiene un valor agregado de: 396.7550675675677 pesos\n"
     ]
    }
   ],
   "source": [
    "#Comparemos los precios de los teléfonos de segunda mano contra los restaurados\n",
    "segunda_mano = phone_list[phone_list['STATUS'] == 'De segunda mano']\n",
    "restaurados = phone_list[phone_list['STATUS'] == 'Restaurados']\n",
    "\n",
    "print('Precio promedio de los teléfonos de segunda mano:', segunda_mano['PRICE'].mean())\n",
    "print('Precio promedio de los teléfonos restaurados:', restaurados['PRICE'].mean())\n",
    "\n",
    "valor_agregado = restaurados['PRICE'].mean() - segunda_mano['PRICE'].mean()\n",
    "print('Concluimos de aquí que restaurar un iphone 10 tiene un valor agregado de:', valor_agregado, 'pesos')"
   ]
  }
 ],
 "metadata": {
  "kernelspec": {
   "display_name": "Python 3 (ipykernel)",
   "language": "python",
   "name": "python3"
  },
  "language_info": {
   "codemirror_mode": {
    "name": "ipython",
    "version": 3
   },
   "file_extension": ".py",
   "mimetype": "text/x-python",
   "name": "python",
   "nbconvert_exporter": "python",
   "pygments_lexer": "ipython3",
   "version": "3.11.5"
  }
 },
 "nbformat": 4,
 "nbformat_minor": 5
}
