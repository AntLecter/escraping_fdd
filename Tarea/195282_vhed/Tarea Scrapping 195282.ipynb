{
 "cells": [
  {
   "cell_type": "markdown",
   "id": "f9582a54",
   "metadata": {},
   "source": [
    "# Tarea de Scraping Web con Python y Selenium\n",
    "\n",
    "## Objetivo\n",
    "Desarrollar habilidades prácticas en scraping web utilizando Python con Selenium y BeautifulSoup. Se espera que manejen el navegador de forma programática para extraer datos dinámicos de un sitio web específico y que realicen un análisis básico de los datos obtenidos.\n",
    "\n",
    "## Instrucciones\n",
    "1. Configura tu entorno de desarrollo instalando las librerías necesarias: Selenium, BeautifulSoup, pandas, entre otras que consideres necesarias.\n",
    "2. Configura un navegador usando Selenium. Debes asegurarte de incluir opciones como el modo incógnito y el modo sin interfaz gráfica (headless).\n",
    "3. Elige un sitio web que ofrezca datos dinámicos y sea legal para hacer scraping (por ejemplo, datos meteorológicos, precios de productos, cotizaciones de bolsa).\n",
    "4. Navega al sitio web utilizando Selenium, realiza búsquedas o filtra datos si es necesario utilizando interacciones del navegador.\n",
    "5. Extrae datos relevantes usando Selenium y BeautifulSoup. Debes obtener al menos tres tipos de datos relacionados (por ejemplo, nombre del producto, precio y categoría).\n",
    "6. Limpia y organiza los datos extraídos en un DataFrame de pandas.\n",
    "7. Realiza un análisis básico de los datos: puede ser estadístico descriptivo o alguna visualización simple.\n",
    "8. Documenta cada paso del proceso con comentarios en el código y celdas Markdown explicando las decisiones y métodos utilizados.\n",
    "\n",
    "## Criterios de Evaluación\n",
    "- Correcta configuración y uso de Selenium y BeautifulSoup.\n",
    "- Capacidad para navegar y extraer datos de forma efectiva y eficiente.\n",
    "- Limpieza y estructuración adecuada de los datos extraídos.\n",
    "- Calidad del análisis realizado y claridad en la documentación.\n",
    "\n",
    "## Entrega\n",
    "- Debes entregar este cuaderno Jupyter completado con todo el código, análisis y documentación solicitada.\n",
    "\n",
    "¡Buena suerte y que disfrutes del proceso de aprendizaje y exploración de datos!\n"
   ]
  },
  {
   "cell_type": "code",
   "execution_count": null,
   "id": "6bf4a987-dc34-4b51-82c1-7efa28ff13fa",
   "metadata": {},
   "outputs": [],
   "source": [
    "# Importar el módulo time para manejar tiempos\n",
    "import time\n",
    "\n",
    "# Importar undetected_chromedriver como uc para evitar ser detectado\n",
    "import undetected_chromedriver as uc\n",
    "\n",
    "# Importar diferentes clases y métodos de Selenium para la automatización del navegador\n",
    "from selenium.webdriver.common.by import By\n",
    "from selenium.webdriver.common.keys import Keys\n",
    "from selenium.webdriver.support.ui import WebDriverWait\n",
    "from selenium.webdriver.support import expected_conditions as EC\n",
    "from selenium import webdriver\n",
    "from selenium.webdriver.chrome.options import Options\n",
    "from selenium.webdriver.common.action_chains import ActionChains\n",
    "\n",
    "# Importar BeautifulSoup (bs) para el análisis del código HTML\n",
    "from bs4 import BeautifulSoup as bs\n",
    "\n",
    "# Importar el módulo requests para realizar solicitudes HTTP\n",
    "import requests\n"
   ]
  },
  {
   "cell_type": "code",
   "execution_count": null,
   "id": "47be3e92-8d8b-4f7b-acc2-749784c12fa0",
   "metadata": {},
   "outputs": [],
   "source": [
    "# Crear un objeto ChromeOptions para configurar las opciones del navegador\n",
    "options = uc.ChromeOptions()\n",
    "\n",
    "# Configurar el modo headless del navegador (sin interfaz gráfica)\n",
    "options.headless = True\n",
    "\n",
    "# Agregar argumentos para abrir una ventana de incógnito\n",
    "options.add_argument(\"--incognito\")\n",
    "\n",
    "# Agregar argumentos para deshabilitar las barras de información del navegador\n",
    "options.add_argument(\"--disable-infobars\")\n",
    "\n",
    "# Crear una instancia del navegador Chrome con las opciones configuradas\n",
    "driver = uc.Chrome(options=options)\n",
    "\n",
    "\n",
    "#options.add_argument(\"user-agent=Mozilla/5.0 (Windows NT 10.0; Win64; x64) AppleWebKit/537.36 (KHTML, like Gecko) Chrome/100.0.4896.79 Safari/537.3\")\n",
    "#driver = webdriver.Chrome(options=options)"
   ]
  },
  {
   "cell_type": "code",
   "execution_count": null,
   "id": "d9236cf7-120f-4e67-bfe0-923688872154",
   "metadata": {},
   "outputs": [],
   "source": [
    "# Navegar a la página de MercadoLibre\n",
    "driver.get(\"https://listado.mercadolibre.com.mx/\")"
   ]
  },
  {
   "cell_type": "markdown",
   "id": "6923e5f1-e0c6-4edf-8519-1dfd729cbbc6",
   "metadata": {},
   "source": [
    "Decidí hacer un análisis de las laptops que podemos encontrar en MercadoLibre"
   ]
  },
  {
   "cell_type": "code",
   "execution_count": null,
   "id": "db3ff0ed-405d-44c1-b1c2-228d743c8eda",
   "metadata": {},
   "outputs": [],
   "source": [
    "# Esperar a que el elemento de búsqueda esté disponible y realizar una búsqueda\n",
    "search_box = WebDriverWait(driver, 10).until(\n",
    "    EC.presence_of_element_located((By.NAME, \"as_word\"))\n",
    ")\n",
    "search_box.send_keys(\"laptops\")\n",
    "search_box.send_keys(Keys.RETURN)"
   ]
  },
  {
   "cell_type": "code",
   "execution_count": null,
   "id": "e828a56f-fe5d-4f95-90d6-8c95f410e4af",
   "metadata": {},
   "outputs": [],
   "source": [
    "# Esperar a que los resultados carguen\n",
    "time.sleep(5)"
   ]
  },
  {
   "cell_type": "code",
   "execution_count": null,
   "id": "b5cf2436-fd2c-4e17-8e1a-2c7f71ae2af9",
   "metadata": {},
   "outputs": [],
   "source": [
    "# Extraer los datos relevantes usando BeautifulSoup\n",
    "soup = bs(driver.page_source, \"html.parser\")"
   ]
  },
  {
   "cell_type": "code",
   "execution_count": null,
   "id": "25c5dc4c-57ed-41e0-96c3-f310eaaf1b15",
   "metadata": {},
   "outputs": [],
   "source": [
    "# Extraer información de los productos\n",
    "productos = soup.find_all(\"div\", {\"class\": \"ui-search-result__content-wrapper\"})"
   ]
  },
  {
   "cell_type": "code",
   "execution_count": null,
   "id": "a2aaa95d-0346-47c8-add9-199a127cd2a2",
   "metadata": {},
   "outputs": [],
   "source": [
    "# Crear listas para almacenar la información de los productos\n",
    "nombres_prodcutos = []\n",
    "precios_prodcutos = []\n",
    "links_prodcutos = []\n"
   ]
  },
  {
   "cell_type": "code",
   "execution_count": null,
   "id": "aa255e54-ade9-4fa4-91ff-7402af1ba2af",
   "metadata": {},
   "outputs": [],
   "source": [
    "# Iterar sobre cada producto y extraer la información\n",
    "for product in productso:\n",
    "    # Extraer el nombre del producto\n",
    "    nombre = product.find(\"h2\", {\"class\": \"ui-search-item__title\"})\n",
    "    if nombre:\n",
    "        nombres_productos.append(nombre.text)\n",
    "    \n",
    "    # Extraer el precio del producto\n",
    "    precio = product.find(\"span\", {\"class\": \"price-tag-fraction\"})\n",
    "    if precio:\n",
    "        precios_productos.append(precio.text)\n",
    "    \n",
    "    # Extraer el enlace del producto\n",
    "    link = product.find(\"a\", {\"class\": \"ui-search-link\"})\n",
    "    if link:\n",
    "        links_productos.append(link['href'])"
   ]
  },
  {
   "cell_type": "code",
   "execution_count": null,
   "id": "04ce2bc0-200d-47bb-8e3b-61eccbb93d63",
   "metadata": {},
   "outputs": [],
   "source": [
    "# Cerrar el navegador\n",
    "driver.quit()"
   ]
  },
  {
   "cell_type": "markdown",
   "id": "e743cf25-4dc5-4749-8b8d-caf9ee960736",
   "metadata": {},
   "source": [
    "Ahora trabajamos y analizamos la información obtenida"
   ]
  },
  {
   "cell_type": "code",
   "execution_count": null,
   "id": "40d77044-ca69-44c3-82a0-5294cffd954e",
   "metadata": {},
   "outputs": [],
   "source": [
    "# Crear un DataFrame de pandas con la información extraída\n",
    "data = {\n",
    "    \"Product Name\": nombres_productos,\n",
    "    \"Price\": precios_productos,\n",
    "    \"Link\": links_productos\n",
    "}\n",
    "df = pd.DataFrame(data)"
   ]
  },
  {
   "cell_type": "code",
   "execution_count": null,
   "id": "b73a9c8c-2716-490d-a382-70174a91a071",
   "metadata": {},
   "outputs": [],
   "source": [
    "# Convertir los precios a números\n",
    "df['Price'] = df['Price'].str.replace(',', '').astype(float)\n",
    "\n",
    "# Calcular el precio promedio\n",
    "average_price = df['Price'].mean()\n",
    "print(f\"El precio promedio de las laptops es: {average_price}\")\n"
   ]
  },
  {
   "cell_type": "code",
   "execution_count": null,
   "id": "d3030f25-e8ef-4768-b122-923401fe890d",
   "metadata": {},
   "outputs": [],
   "source": [
    "\n",
    "# Crear una gráfica de precios\n",
    "plt.figure(figsize=(10, 5))\n",
    "plt.hist(df['Price'], bins=30, color='blue', edgecolor='black')\n",
    "plt.title('Distribución de Precios de Laptops')\n",
    "plt.xlabel('Precio')\n",
    "plt.ylabel('Frecuencia')\n",
    "plt.axvline(average_price, color='red', linestyle='dashed', linewidth=1, label=f'Promedio: ${average_price:.2f}')\n",
    "plt.legend()\n",
    "plt.show()"
   ]
  }
 ],
 "metadata": {
  "kernelspec": {
   "display_name": "Python 3 (ipykernel)",
   "language": "python",
   "name": "python3"
  },
  "language_info": {
   "codemirror_mode": {
    "name": "ipython",
    "version": 3
   },
   "file_extension": ".py",
   "mimetype": "text/x-python",
   "name": "python",
   "nbconvert_exporter": "python",
   "pygments_lexer": "ipython3",
   "version": "3.9.19"
  }
 },
 "nbformat": 4,
 "nbformat_minor": 5
}
