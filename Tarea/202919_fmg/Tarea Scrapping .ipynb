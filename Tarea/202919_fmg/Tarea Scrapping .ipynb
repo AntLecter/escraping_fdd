{
 "cells": [
  {
   "cell_type": "markdown",
   "id": "f9582a54",
   "metadata": {},
   "source": [
    "# Tarea de Scraping Web con Python y Selenium\n",
    "\n",
    "## Objetivo\n",
    "Desarrollar habilidades prácticas en scraping web utilizando Python con Selenium y BeautifulSoup. Se espera que manejen el navegador de forma programática para extraer datos dinámicos de un sitio web específico y que realicen un análisis básico de los datos obtenidos.\n",
    "\n",
    "## Instrucciones\n",
    "1. Configura tu entorno de desarrollo instalando las librerías necesarias: Selenium, BeautifulSoup, pandas, entre otras que consideres necesarias.\n",
    "2. Configura un navegador usando Selenium. Debes asegurarte de incluir opciones como el modo incógnito y el modo sin interfaz gráfica (headless).\n",
    "3. Elige un sitio web que ofrezca datos dinámicos y sea legal para hacer scraping (por ejemplo, datos meteorológicos, precios de productos, cotizaciones de bolsa).\n",
    "4. Navega al sitio web utilizando Selenium, realiza búsquedas o filtra datos si es necesario utilizando interacciones del navegador.\n",
    "5. Extrae datos relevantes usando Selenium y BeautifulSoup. Debes obtener al menos tres tipos de datos relacionados (por ejemplo, nombre del producto, precio y categoría).\n",
    "6. Limpia y organiza los datos extraídos en un DataFrame de pandas.\n",
    "7. Realiza un análisis básico de los datos: puede ser estadístico descriptivo o alguna visualización simple.\n",
    "8. Documenta cada paso del proceso con comentarios en el código y celdas Markdown explicando las decisiones y métodos utilizados.\n",
    "\n",
    "## Criterios de Evaluación\n",
    "- Correcta configuración y uso de Selenium y BeautifulSoup.\n",
    "- Capacidad para navegar y extraer datos de forma efectiva y eficiente.\n",
    "- Limpieza y estructuración adecuada de los datos extraídos.\n",
    "- Calidad del análisis realizado y claridad en la documentación.\n",
    "\n",
    "## Entrega\n",
    "- Debes entregar este cuaderno Jupyter completado con todo el código, análisis y documentación solicitada.\n",
    "\n",
    "¡Buena suerte y que disfrutes del proceso de aprendizaje y exploración de datos!\n"
   ]
  },
  {
   "cell_type": "markdown",
   "id": "2e21741d",
   "metadata": {},
   "source": [
    "1. Configura tu entorno de desarrollo instalando las librerías necesarias: Selenium, BeautifulSoup, pandas, entre otras que consideres necesarias."
   ]
  },
  {
   "cell_type": "code",
   "execution_count": null,
   "id": "b2da3d7d",
   "metadata": {},
   "outputs": [],
   "source": [
    "#Instalar las librerías necesarias\n",
    "!pip install -r requirements.txt"
   ]
  },
  {
   "cell_type": "code",
   "execution_count": null,
   "id": "5f8ac6fc",
   "metadata": {},
   "outputs": [],
   "source": [
    "#También estas que no estaban en el requirements\n",
    "!pip install pandas matplotlib"
   ]
  },
  {
   "cell_type": "code",
   "execution_count": 78,
   "id": "92600973",
   "metadata": {},
   "outputs": [],
   "source": [
    "#Importar las librerías necesarias\n",
    "import undetected_chromedriver as uc\n",
    "from selenium.webdriver.common.by import By\n",
    "from selenium.webdriver.common.keys import Keys\n",
    "from selenium.webdriver.support.ui import WebDriverWait\n",
    "from selenium.webdriver.support import expected_conditions as EC\n",
    "from selenium import webdriver\n",
    "from selenium.webdriver.chrome.options import Options\n",
    "from selenium.webdriver.common.action_chains import ActionChains\n",
    "from bs4 import BeautifulSoup\n",
    "import pandas as pd\n",
    "import matplotlib.pyplot as plt\n"
   ]
  },
  {
   "cell_type": "markdown",
   "id": "25704260",
   "metadata": {},
   "source": [
    "2. Configura un navegador usando Selenium. Debes asegurarte de incluir opciones como el modo incógnito y el modo sin interfaz gráfica (headless)."
   ]
  },
  {
   "cell_type": "code",
   "execution_count": 79,
   "id": "499b04fe",
   "metadata": {},
   "outputs": [],
   "source": [
    "#Configurar el navegador\n",
    "options = Options()\n",
    "options.add_argument('--incognito')\n",
    "options.add_argument('--headless')\n",
    "options.add_argument('--disable-gpu')\n",
    "options.add_argument('--no-sandbox')\n",
    "\n",
    "# Inicializar el navegador\n",
    "driver = webdriver.Chrome(options)"
   ]
  },
  {
   "cell_type": "markdown",
   "id": "1df7a142",
   "metadata": {},
   "source": [
    "3. Elige un sitio web que ofrezca datos dinámicos y sea legal para hacer scraping (por ejemplo, datos meteorológicos, precios de productos, cotizaciones de bolsa)."
   ]
  },
  {
   "cell_type": "markdown",
   "id": "925e30a9",
   "metadata": {},
   "source": [
    "Elegí Mercado libre para buscar precios de Laptops porque está en mis planes vender la mía jajaj, entonces voy a buscar los precios de las laptops."
   ]
  },
  {
   "cell_type": "markdown",
   "id": "f2028684",
   "metadata": {},
   "source": [
    "4. Navega al sitio web utilizando Selenium, realiza búsquedas o filtra datos si es necesario utilizando interacciones del navegador."
   ]
  },
  {
   "cell_type": "code",
   "execution_count": 80,
   "id": "7a676dae",
   "metadata": {},
   "outputs": [],
   "source": [
    "# Entrar a mercado libre\n",
    "driver.get('https://www.mercadolibre.com.mx/')"
   ]
  },
  {
   "cell_type": "code",
   "execution_count": 81,
   "id": "23213134",
   "metadata": {},
   "outputs": [],
   "source": [
    "# Buscar las laptops\n",
    "search_box = driver.find_element(By.NAME, \"as_word\")\n",
    "search_box.send_keys(\"laptops\")\n",
    "search_box.send_keys(Keys.RETURN)  "
   ]
  },
  {
   "cell_type": "markdown",
   "id": "1fa8a6ea",
   "metadata": {},
   "source": [
    "5. Extrae datos relevantes usando Selenium y BeautifulSoup. Debes obtener al menos tres tipos de datos relacionados (por ejemplo, nombre del producto, precio y categoría)."
   ]
  },
  {
   "cell_type": "code",
   "execution_count": 82,
   "id": "8869c023",
   "metadata": {},
   "outputs": [],
   "source": [
    "#Utilizar BeautifulSoup para analizar el contenido de la página cargada por Selenium\n",
    "soup = BeautifulSoup(driver.page_source, 'html.parser')\n",
    "items = soup.find_all('div', {'class': 'ui-search-result__content-wrapper'})\n",
    "\n",
    "#Extraer la información de las laptops\n",
    "data = []\n",
    "for item in items:\n",
    "    name = item.find('h2', {'class': 'ui-search-item__title'}).text\n",
    "    price_span = item.find('span', {'class': 'andes-money-amount__fraction'})\n",
    "    price = price_span.text if price_span else 'N/A'\n",
    "    link = item.find('a', {'class': 'ui-search-link'})['href']\n",
    "    data.append([name, price, link])\n",
    "\n",
    "#Cerrar el navegador\n",
    "driver.quit()\n"
   ]
  },
  {
   "cell_type": "code",
   "execution_count": 83,
   "id": "98b69ca6",
   "metadata": {},
   "outputs": [
    {
     "name": "stdout",
     "output_type": "stream",
     "text": [
      "[['Laptop Huawei Matebook D15 Core I5 11.5th 8gb +512ssd Color Plateado', '16,999', 'https://click1.mercadolibre.com.mx/mclics/clicks/external/MLM/count?a=JJaqf0SR7FalQyZpkLSqXQxR%2BcuApprqdUtIOowrZx6njQ2l0SJevDipZ8km7Wy96Hn%2B3HJauNI1BnBDhu74ttVUivE8PljaxmM9RNtirajS2VxErHOMnIGO9N2UfRWtnMD1ytu0wqAxRmOhs3xWvNpQC5oROI8%2Fa9D%2F4icugwsteYCScfqld%2BMf%2BI78JD2mCJF1cvpI2hm2bK2Djr7fdQRWrasoPYnQ8gvfpEvN13PDREnVjU4rI9N%2BAJl3q4dcJhFDk%2BrJO16S1zwT2lyhdevvoymEcBmGPjlZ8OufBuT%2F1CHwFeu2ejRr11Ldj18sLr%2FQo1PUc7oz45qagcVOM0vhCwebMh2CwdW8yHf8KFv55Umb2yquTbZZajN4PrVjeEX4PsUxX%2BI%2FD6lOYO3jIyGVehLmxK8EoLlk5VIZoVVOdx924edl2tzuI%2F%2Bl3O7WO2YbVwLHcwQUHhiRfpZ%2BCaycu5aD%2BbgG9ybK5gmGNEHXGEIjYHcger7hLL60PY%2F9%2FaTlI2OFllnZReIkAUsyO1fU%2BxAohEAsRTHDwIYj9Qrq2D%2F84WhklxljyiEJB1Q48WItAoINZXeplu3kapH9R%2B6kUCG8MRsKOslgD5fXjXxW531XZA%2Bnj%2BubQtH786S6H7dGB33S5xgyr4Zju75p199F0T9ULQnNhwa2hTw%2B6EjtwJ9HOIiY0%2F1yBsUIhHgnU5TCEgN1jCyesh51OLDlFrgOBIwoMQzGdhXlxjTLwQIsyC9Bin4j5JRaJR7Bq04xuXM%2BrodrBsKz3up7f2ZG6HXtxfUMOUCLRKGRmde35%2BqgTYrE3V8QeVWGvracHaa94A%3D%3D&e=mclics%2Fvariant-candidates%2B31710%2Cmclics%2Fadvertising-results-augmenter-on%2B15098%2Cmclics%2Fpseudo-search-pads-buybox%2B7708%2Cmclics%2Fmax-bid-item-factor%2B23928%2Cmclics%2Fsearch-list-ad-algorithm%2BDEFAULT%2Cmclics%2Fbuybox-layout%2B25349%2Cmclics%2Fmax-bid-capped%2B36382%2Cmclics%2Fmore-ads%2B28402%2Cmclics%2Fpads-score-mla%2B17263%2Cmclics%2Flax-top-domain%2B23443&rb=x'], ['Laptop Huawei Matebook D16 I5 12a 8gb 512gb Ssd Windows 11', '16,999', 'https://click1.mercadolibre.com.mx/mclics/clicks/external/MLM/count?a=PXHgO80zIZbjQDSSa3E4tDeTvDyL6SEWgQLcua4CN7FQJ8RbFcqz7LZlexmrArjjwjTUuzt2t8nTtQmVbKq7KBeoOTM7edouUsNuDLjXKkfOZxyJgizKf%2FUuF2uhoODRqgbY07EvWg%2F7D68BrLcLyDYlVom9eeXTRjKcC%2BL6wHzHkGQVZB7S7cBpNyzoIcOu7iw6NUTOqGBRBdLwPbK9e4dsmHaDmFhXLfP8Ij96nEe%2FqpdR9vB6DewJ3B5xNynIyfOd4UVss6Z8RPNMHRRjyi6NLYOvBAh1urPk5e33hnDwYWpI4MpKxDNdjawBarrFRP4sMfVO%2BL3BxHCJKmqrw%2BOLH%2B1ZEDoZ%2BI8cddae2iZ6Ems%2BfNcGhUW%2BUHIiJGMm84SPXeBqhGW4t4y%2FHkj%2B2uS23RmCFrEoe9k87peoQvKoxW3iwRkxYnJFIKGwjGJ%2Fm4o2mHUf%2BVV2s4Qaa5sqglyQ0AHiV4Kh%2Bh%2F4e72NQ6dcXYYIzMCxaeLMW4Meehrv0GosA0XKwUEeAjsAF8XFQLDeUuiBN20RXCjnt6heYhhupdWfMZy2XlJgkLsxf76EF6Puz1lmDroSyMosEJSNLranL%2F4bE8yaXOzbWJrXWh8YUuwaxkij6%2FA7wm4S3KqeATVThRHCC58EpysSHX7QdJyZQ6i7AhiRCWmewxQT1EqYAFT3YTCkAPFzxtDkIN1%2BhZJ1o22QL0pm%2FBOtvCjrKv%2BAMv7NLkMZaFflqUk1OxzzypLqvSqNE7u4%2B6p1%2FzfRfCcexpSoKvp9cTBr%2Fs9Pdr0CaHluCPOHMlNQ7ntLbnqi7kcFikQ9ssM%3D&e=mclics%2Fvariant-candidates%2B31710%2Cmclics%2Fadvertising-results-augmenter-on%2B15098%2Cmclics%2Fpseudo-search-pads-buybox%2B7708%2Cmclics%2Fmax-bid-item-factor%2B23928%2Cmclics%2Fsearch-list-ad-algorithm%2BDEFAULT%2Cmclics%2Fbuybox-layout%2B25349%2Cmclics%2Fmax-bid-capped%2B36382%2Cmclics%2Fmore-ads%2B28402%2Cmclics%2Fpads-score-mla%2B17263%2Cmclics%2Flax-top-domain%2B23443&rb=x'], ['Laptop Huawei Matebook D 14 Ci5 12a 8 Gb +512 Gb Win11 Gris', '16,999', 'https://www.mercadolibre.com.mx/laptop-huawei-matebook-d-14-ci5-12a-8-gb-512-gb-win11-gris/p/MLM29503194?pdp_filters=category:MLM1652#searchVariation=MLM29503194&position=6&search_layout=stack&type=product&tracking_id=4da51752-eacb-436f-bbd1-6a56aa8b5b31'], ['Laptop Huawei Matebook D 14 Ci3 12a 8 Gb 256 Gb Win11 Gris', '13,999', 'https://click1.mercadolibre.com.mx/mclics/clicks/external/MLM/count?a=a4qzoe%2FnZt44uffeLHBaRdhItLf9nU3EKzt%2BNq8fnyyZ%2F9VzPlGF1aeVeq67GvJN5WqDdJ2wJmpKvEssBRcv%2FtANbuoaqX3uWkJZ8VAH2Vz1m6wxhqX4xqvAJpaaB4Ge4WNQu6N%2BI%2FcAcKFlKSQu21LOmhp8xK6mXJUfr44lpsbgydfGS7PPS5lCJDgn2hFqh%2FD%2FEBPzICGJ0%2Bpp0fomxAhyxPl3CqkitDbZRnFr5t0ffy9CmMnsygl676ejbnZDQoF3R7BQGq0xSootbI2eBy146%2FH88yubANDdQmB8uyIRcZgkFM3P3TSjhWRSc1dyLoCeQMUjcBBQUPgSeivjHqiboHtdYI6VV2horyC6p5DGrb8QbAgWfuJ1aMVP0yYms4OuW5NZW9mhB%2FE5WaAXzOE4zCg2QN9EPiRMT4HwjyheiJ%2B9NO0M23KuGinv5JyElqexjcKnulHtt7CvsdbZeKYfe7LvVRZUWsE95iQbTfd%2B6Q3JzvD4SW6TAoeao3Pnsizj01%2BR%2Bmtl7%2BgHg7YJ9cv5QUcvqF9U2jyLv%2FCmSlzypB1SNb6H8uSG%2F6VeTBbyBq0rhuOLs0uhmz8IOg4SsB21SuL0lRfmSnwWxe7Gf04Ve7aKMgsNiVzqMD2N05aRfPEhjqQY20pEaZhQB2u7k8R%2BC0jghHLN1Na4JEBRYuucVOvEyyqjS5DwXsJ98MdpaEolgJ1Yj%2Fj0ZdtzqIjvywD1DKOTlOFJ%2B%2BC0Xyqt3VLueHYWlBYVfxyuIKYEYdsXyHqzpjYIVYbag2uAh5cMUWnmpLmw1eSOPLga%2BDA0ler8AO0h3m39eFc%3D&e=mclics%2Fvariant-candidates%2B31710%2Cmclics%2Fadvertising-results-augmenter-on%2B15098%2Cmclics%2Fpseudo-search-pads-buybox%2B7708%2Cmclics%2Fmax-bid-item-factor%2B23928%2Cmclics%2Fsearch-list-ad-algorithm%2BDEFAULT%2Cmclics%2Fbuybox-layout%2B25349%2Cmclics%2Fmax-bid-capped%2B36382%2Cmclics%2Fmore-ads%2B28402%2Cmclics%2Fpads-score-mla%2B17263%2Cmclics%2Flax-top-domain%2B23443&rb=x'], ['Laptop Huawei Matebook D 14 Ci5 12a 8 Gb +512 Gb Win11 Gris', '16,999', 'https://click1.mercadolibre.com.mx/mclics/clicks/external/MLM/count?a=PXWpb1O5r3qO6tpWq1fugDBBoyBR8pYyxf5yaoVJvSXAsX6ke2Li0xjLXlVa58WB4u9IjCmVAzCmlhDQbVoWs3ewYi2L0eA45TnxPpxt9e3KkctZaTzN7NQxLxx8IwdnlZf9DxEvZXe66ZUJG7u5m7MSTA0LJoC%2FCiVcKjwnI10SKYu7y%2FX0eRmz8fc6S0VTyEJGIUTdOH6kCkEWwg7ucC1auJHqvCq%2FIfEKY1mGqjslapRql9K6rjCLgBk8V1vKRRma5khUgAnbIRtOYyJURhhGrrYPgjBcXAUdDBP4hngS7N9A0jYFewGML%2BLp8m5WMTjjYXtlcNSVx0%2B2G%2B9prY7Cb7wQHlX%2F3vCaX7Xmg2qCKJpp1JCMMyKBW3D20d8gEIlFSmMdD50YquGgDAoGSwLy1yEWBVYZoJ6tyyoGFRNJ4BefFWc4RFEKuhlwbIngBtjsW3XI9SvD3AJvMxbH6MGOa%2FOVXsy3rmnTpxrHC%2B5U65RvCAGz4F3lZAjXrRLKUVqAWWABwjj386g8DZR6qnMyFLcatDA8C%2BTKunJFQcMh4QFzaQC1GteqDhhhmAf7A2nHWY1jZS4YgiK5j2B0yDCMks1EtOx8hBGNl%2FNISb5LPqDvUm5ldaBiuYadA%2FCuEL1H7hpK01uLutjvDgxew6%2BAUEAvDWUwMbynaBhiHwbcDVzCZyo895PuV1PJ42w5XDXYTEovNFxBL8SMDR8SoQWWRbyF5LofKAASV2d8Rtkrb3ujd9sgI7rpe3H6dHW6Pp3ABUYdmTJtpFDYzlSLExzFo7w1oKAel5QOrQertYuE7zbmo%2FOT3lqS&e=mclics%2Fvariant-candidates%2B31710%2Cmclics%2Fadvertising-results-augmenter-on%2B15098%2Cmclics%2Fpseudo-search-pads-buybox%2B7708%2Cmclics%2Fmax-bid-item-factor%2B23928%2Cmclics%2Fsearch-list-ad-algorithm%2BDEFAULT%2Cmclics%2Fbuybox-layout%2B25349%2Cmclics%2Fmax-bid-capped%2B36382%2Cmclics%2Fmore-ads%2B28402%2Cmclics%2Fpads-score-mla%2B17263%2Cmclics%2Flax-top-domain%2B23443&rb=x'], ['Laptop  HP 245 G9 negra 14in, AMD Ryzen 3 3250U  16GB de RAM 512GB SSD, AMD Radeon Graphics 1366x768px Windows 11 Home', '8,499', 'https://www.mercadolibre.com.mx/laptop-hp-245-g9-negra-14in-amd-ryzen-3-3250u-16gb-de-ram-512gb-ssd-amd-radeon-graphics-1366x768px-windows-11-home/p/MLM27440340?pdp_filters=category:MLM1652#searchVariation=MLM27440340&position=7&search_layout=stack&type=product&tracking_id=4da51752-eacb-436f-bbd1-6a56aa8b5b31'], [\"Laptop Lenovo Ideapad 3 15.6'' Ryzen 7 16gb Ram 512gb Ssd Color Sand\", '15,999', 'https://www.mercadolibre.com.mx/laptop-lenovo-ideapad-3-156-ryzen-7-16gb-ram-512gb-ssd-color-sand/p/MLM21286268?pdp_filters=category:MLM1652#searchVariation=MLM21286268&position=8&search_layout=stack&type=product&tracking_id=4da51752-eacb-436f-bbd1-6a56aa8b5b31'], [\"Laptop Lenovo Ideapad Slim 3 15.6'' Ci5 8gb + 512gb Ssd\", '14,999', 'https://www.mercadolibre.com.mx/laptop-lenovo-ideapad-slim-3-156-ci5-8gb-512gb-ssd/p/MLM28619487?pdp_filters=category:MLM1652#searchVariation=MLM28619487&position=11&search_layout=stack&type=product&tracking_id=4da51752-eacb-436f-bbd1-6a56aa8b5b31'], ['Laptop Core I5-13450hx Dell 5530 8gb 512gb 15.6 Rtx3050 W11 Color Negro', '20,398', 'https://click1.mercadolibre.com.mx/mclics/clicks/external/MLM/count?a=h2XWJAFthzCp0tXMYdMOhPwbyIFM4pQX2k%2BlvAZqBvrqxJIlYWf9ipeXwtxE3aC%2BiMsTE2tUS4L5HWNJ2CRPmIeNvmGG7dc2yGEUDNWkOBo9J4JJjPTP30%2B9NHhjT0fXkThj7xVU9bExBqOrrQUByf%2FlD7nVQkI%2FhUT96XUcBu3yr0gJAlFfB9B%2FOcRfkZrpBg%2FCZGBdYgzCAffsWg468%2FjfcN3%2FNIyk7OLZB1KYfyGKdYVQ7fDFFw4%2FraECOxD%2F0MpRPOecDRyeRjcrUv57BCmoq0VwZARNAthK0JdmqGaDLXuoBOQ%2Fx3SK8OR8zHWKFjMXpddIG7jEEUnpFb3hthi9YdV%2BZAfUsB%2FEnqY5q%2FzSJSA%2BNjQnKT7uUSPOIv8Y5pnvyJU9NE4G0PtxZ2eR%2FdNfwoXhUiyNdjUUoCBqygqJNXQYJVorjFBgIvTAX9kGWeKOno95PjDLZr5JWcN%2FCyr3gp9WeBKF6%2Bn9PkTeh9DQPXZuAIuJf%2FCr3qJivBhfbYRRAO8kpkUx7aQZTT2tHA6IpSZS36uahjY%2BvNEJ9A7Ajn%2B%2B1uqp4moeqmJ21XxZQR1ZmOqtlAgSQ7kCkJSbc%2BvfRpYjzFGnRxe7nnX9Dqf4GuW%2BfB3izcLQm50Z8xby3oXsi7jTYE4x2aR9PTcAyYy08nsW1M3qSV4L%2BKNKYfjwLHtVHIz1KwzmOeW8%2BeOe21QmtPCaYVSpXqPCX98AYvA1uRislgy%2F%2F7lR7YvasNcozJj%2Bzwxk17wsHrU8ySCvXj3V4nZwNzYdlIu3FvfUH22QQ7ZiWG4qj%2BUT%2Ff2Wc9dpT7tHPfw7ed9K2sCmCedfpl1UKQ%3D%3D&e=mclics%2Fvariant-candidates%2B31710%2Cmclics%2Fadvertising-results-augmenter-on%2B15098%2Cmclics%2Fpseudo-search-pads-buybox%2B7708%2Cmclics%2Fmax-bid-item-factor%2B23928%2Cmclics%2Fsearch-list-ad-algorithm%2BDEFAULT%2Cmclics%2Fbuybox-layout%2B25349%2Cmclics%2Fmax-bid-capped%2B36382%2Cmclics%2Fmore-ads%2B28402%2Cmclics%2Fpads-score-mla%2B17263%2Cmclics%2Flax-top-domain%2B23443&rb=x'], ['Laptops Dell 5480 Corei5 6a Gen 8gb 14  Disco Solido 256gb!!', '5,100', 'https://click1.mercadolibre.com.mx/mclics/clicks/external/MLM/count?a=7RU262tLASN2iAc%2BpTlxJGIVcldennRYQgZmilG99GLKB6U77XtHNwxOV%2FDR9qyczqNoeX0GnWYXjPvW%2BfwjnEMUeft6UWa1oFkdk9DIsF6NAy8KcKODLT91BZjyE4WSVDjXJgOVo8x7pi2qlKDM6YEXXhKJwcrsG7givWpmZQ2F9m%2FswUqEj78nG4C45e8dOxkuTI6SEIzHh0VSz6muIwSqPEQGdeFCr%2BHYm21ME6EOwEVoGjxhbMAFUM3MErkXBHSXofMvBbJBaClzutTW0bAdAeXEu1OKi%2BRFJOx5mOFfcP7eOxM7eoF7g4F8WUxsR9xyJMH43CjG%2F%2FGZNiBXdOgDIvu3n%2FC%2FPwjK0oC4MNNuWNFEINL9PRxpdaHVVYFJ41q3V1v0LknbuEaqSDVYSp9c%2Bf5onQwHb%2FPkT7Jcxo91KqM7xZUvX0m8bjGln2Wf%2F%2Fgbbvv4d8qLjSVrkHxHQtLy%2BLrbnoA2RB4LV64tDj58Ll1nLroJ5%2F73vrn8qEPC%2BHyDz2p1ap%2BImopvBMo1lk2KaiO9Vo%2FDNRhSqCjLWr0ceUm6etIMcNUmGnc%2F7xsVa9S4H%2FmOJSusF%2FNQleqZkZfrA4wTRCKJEB%2BhkbACTA9Y3PTE5LuzNRD%2BlgUh4z%2F8Iq4HahCy0ISMvqKfWpfeYtOACFAJHeHEYZmiY%2Fc%2F%2B%2FsNcFtXkJeTtq2DBKe%2BzlHuUmHU7XjObhuOyU9VQgreNCChPh0%3D&e=mclics%2Fvariant-candidates%2B31710%2Cmclics%2Fadvertising-results-augmenter-on%2B15098%2Cmclics%2Fpseudo-search-pads-buybox%2B7708%2Cmclics%2Fmax-bid-item-factor%2B23928%2Cmclics%2Fsearch-list-ad-algorithm%2BDEFAULT%2Cmclics%2Fbuybox-layout%2B25349%2Cmclics%2Fmax-bid-capped%2B36382%2Cmclics%2Fmore-ads%2B28402%2Cmclics%2Fpads-score-mla%2B17263%2Cmclics%2Flax-top-domain%2B23443&rb=x'], ['Apple Macbook Air (13 pulgadas, 2020, Chip M1, 256 GB de SSD, 8 GB de RAM) - Gris espacial - Distribuidor autorizado', '25,999', 'https://www.mercadolibre.com.mx/apple-macbook-air-13-pulgadas-2020-chip-m1-256-gb-de-ssd-8-gb-de-ram-gris-espacial-distribuidor-autorizado/p/MLM1017828518?pdp_filters=category:MLM1652#searchVariation=MLM1017828518&position=12&search_layout=stack&type=product&tracking_id=4da51752-eacb-436f-bbd1-6a56aa8b5b31'], ['Laptop  HP 240 G9 plateada 14\", Intel Celeron N4500  8GB de RAM 256GB SSD, Intel UHD Graphics (Jasper Lake 16 EU) 1366x768px Windows 11 Home', '7,399', 'https://www.mercadolibre.com.mx/laptop-hp-240-g9-plateada-14-intel-celeron-n4500-8gb-de-ram-256gb-ssd-intel-uhd-graphics-jasper-lake-16-eu-1366x768px-windows-11-home/p/MLM19711491?pdp_filters=category:MLM1652#searchVariation=MLM19711491&position=13&search_layout=stack&type=product&tracking_id=4da51752-eacb-436f-bbd1-6a56aa8b5b31'], ['Laptop Chuwi HeroBook Pro space gray 14.1\", Intel Celeron N4020 8GB de RAM 256GB SSD, Intel UHD Graphics 600 1920x1080px Windows 11 Home', '7,787', 'https://www.mercadolibre.com.mx/laptop-chuwi-herobook-pro-space-gray-141-intel-celeron-n4020-8gb-de-ram-256gb-ssd-intel-uhd-graphics-600-1920x1080px-windows-11-home/p/MLM17892779?pdp_filters=category:MLM1652#searchVariation=MLM17892779&position=14&search_layout=stack&type=product&tracking_id=4da51752-eacb-436f-bbd1-6a56aa8b5b31'], ['Laptop Lenovo Ideapad 15.6 Ryzen 3 7320u 8gb 256gb ssd', '10,999', 'https://www.mercadolibre.com.mx/laptop-lenovo-ideapad-156-ryzen-3-7320u-8gb-256gb-ssd/p/MLM21816271?pdp_filters=category:MLM1652#searchVariation=MLM21816271&position=15&search_layout=stack&type=product&tracking_id=4da51752-eacb-436f-bbd1-6a56aa8b5b31'], ['Laptop Lenovo Ideapad Slim 3 Intel Core I3-1305u 13.a Generación, 8 Gb Ram, 256 Gb Ssd, 15.6 Pulgadas Full Hd, Intel Uhd Graphics , Windows 11 Home 64 Bits, Teclado En Español.', '6,429', 'https://www.mercadolibre.com.mx/laptop-lenovo-ideapad-slim-3-intel-core-i3-1305u-13a-generacion-8-gb-ram-256-gb-ssd-156-pulgadas-full-hd-intel-uhd-graphics-windows-11-home-64-bits-teclado-en-espanol/p/MLM26371237?pdp_filters=category:MLM1652#searchVariation=MLM26371237&position=16&search_layout=stack&type=product&tracking_id=4da51752-eacb-436f-bbd1-6a56aa8b5b31'], ['Laptop Huawei Matebook D16 I5 12a 8gb 512gb Ssd Windows 11', '16,999', 'https://www.mercadolibre.com.mx/laptop-huawei-matebook-d16-i5-12a-8gb-512gb-ssd-windows-11/p/MLM30955032?pdp_filters=category:MLM1652#searchVariation=MLM30955032&position=17&search_layout=stack&type=product&tracking_id=4da51752-eacb-436f-bbd1-6a56aa8b5b31'], ['Laptop Hp 245 G9 Amd Ryzen 3 3250u 8gb Ssd 256gb 14 Hd W11h Color Negro', '7,499', 'https://www.mercadolibre.com.mx/laptop-hp-245-g9-amd-ryzen-3-3250u-8gb-ssd-256gb-14-hd-w11h-color-negro/p/MLM22838449?pdp_filters=category:MLM1652#searchVariation=MLM22838449&position=18&search_layout=stack&type=product&tracking_id=4da51752-eacb-436f-bbd1-6a56aa8b5b31'], ['Hp Stream 14-cf2723wm 14 Celeron N4120 4gb 64gb W11 Plata Color Plateado', '3,699', 'https://www.mercadolibre.com.mx/hp-stream-14-cf2723wm-14-celeron-n4120-4gb-64gb-w11-plata-color-plateado/p/MLM29200553?pdp_filters=category:MLM1652#searchVariation=MLM29200553&position=19&search_layout=stack&type=product&tracking_id=4da51752-eacb-436f-bbd1-6a56aa8b5b31'], ['Laptop  gamer  HP Victus 15-fb1013dx gris 15.6\", AMD Ryzen 5 7535HS  16GB de RAM 512GB SSD, NVIDIA GeForce RTX 2050 144 Hz 1920x1080px Windows 11 Home', '15,311', 'https://www.mercadolibre.com.mx/laptop-gamer-hp-victus-15-fb1013dx-gris-156-amd-ryzen-5-7535hs-16gb-de-ram-512gb-ssd-nvidia-geforce-rtx-2050-144-hz-1920x1080px-windows-11-home/p/MLM28527799?pdp_filters=category:MLM1652#searchVariation=MLM28527799&position=20&search_layout=stack&type=product&tracking_id=4da51752-eacb-436f-bbd1-6a56aa8b5b31'], ['Laptop Chuwi Minibook X 10.51 Intel N100 12 +512 Gb Ddr5 ', '13,535', 'https://articulo.mercadolibre.com.mx/MLM-2900071174-laptop-chuwi-minibook-x-1051-intel-n100-12-512-gb-ddr5-_JM#position=55&search_layout=stack&type=item&tracking_id=4da51752-eacb-436f-bbd1-6a56aa8b5b31'], ['Laptop Hp 240 G9 Intel Core I3-1215u 12va Generación, 8gb Ram, 256gb Ssd, Windows 11 Home, 14 Pulgadas Hd, Teclado En Español.', '7,999', 'https://www.mercadolibre.com.mx/laptop-hp-240-g9-intel-core-i3-1215u-12va-generacion-8gb-ram-256gb-ssd-windows-11-home-14-pulgadas-hd-teclado-en-espanol/p/MLM34019699?pdp_filters=category:MLM1652#searchVariation=MLM34019699&position=21&search_layout=stack&type=product&tracking_id=4da51752-eacb-436f-bbd1-6a56aa8b5b31'], ['Laptop Asus Vivobook Go 15 R5 16gb 512gb + Mochila + Mouse', '11,999', 'https://www.mercadolibre.com.mx/laptop-asus-vivobook-go-15-r5-16gb-512gb-mochila-mouse/p/MLM34348752?pdp_filters=category:MLM1652#searchVariation=MLM34348752&position=22&search_layout=stack&type=product&tracking_id=4da51752-eacb-436f-bbd1-6a56aa8b5b31'], ['Laptop Lenovo 14 Touch Core I5, 16gbram 512gbssd, Windows 11 Color Azul Acero', '16,999', 'https://www.mercadolibre.com.mx/laptop-lenovo-14-touch-core-i5-16gbram-512gbssd-windows-11-color-azul-acero/p/MLM32631260?pdp_filters=category:MLM1652#searchVariation=MLM32631260&position=23&search_layout=stack&type=product&tracking_id=4da51752-eacb-436f-bbd1-6a56aa8b5b31'], [' Netbook LNMBBS 61821CE plata 14\", Intel Celeron J4105  8GB de RAM 128GB SSD, Intel UHD Graphics 600 60 Hz 1920x1080px Windows 11 Pro', '5,062', 'https://www.mercadolibre.com.mx/netbook-lnmbbs-61821ce-plata-14-intel-celeron-j4105-8gb-de-ram-128gb-ssd-intel-uhd-graphics-600-60-hz-1920x1080px-windows-11-pro/p/MLM28838109?pdp_filters=category:MLM1652#searchVariation=MLM28838109&position=24&search_layout=stack&type=product&tracking_id=4da51752-eacb-436f-bbd1-6a56aa8b5b31'], ['Laptop Hp 15-ef2500la Amd Ryzen 7 16gb Ram 512 Gb Ssd', '18,699', 'https://www.mercadolibre.com.mx/laptop-hp-15-ef2500la-amd-ryzen-7-16gb-ram-512-gb-ssd/p/MLM35840340?pdp_filters=category:MLM1652#searchVariation=MLM35840340&position=25&search_layout=stack&type=product&tracking_id=4da51752-eacb-436f-bbd1-6a56aa8b5b31'], ['Laptop Hp 245 G9 Ryzen 3 3250u 8gb M.2 512gb Ssd 14 7f213lt Color Negro', '8,499', 'https://www.mercadolibre.com.mx/laptop-hp-245-g9-ryzen-3-3250u-8gb-m2-512gb-ssd-14-7f213lt-color-negro/p/MLM22838455?pdp_filters=category:MLM1652#searchVariation=MLM22838455&position=26&search_layout=stack&type=product&tracking_id=4da51752-eacb-436f-bbd1-6a56aa8b5b31'], ['Laptop Asus Rog Strix G15 G513 Ryzen7 Rtx3050 16gb 1tb Gris', '19,999', 'https://www.mercadolibre.com.mx/laptop-asus-rog-strix-g15-g513-ryzen7-rtx3050-16gb-1tb-gris/p/MLM35426547?pdp_filters=category:MLM1652#searchVariation=MLM35426547&position=27&search_layout=stack&type=product&tracking_id=4da51752-eacb-436f-bbd1-6a56aa8b5b31'], ['Laptop Gamer Msi Thin Rtx 3050 Core I5 16gb 1.4tb Ssd Mouse ', '23,999', 'https://www.mercadolibre.com.mx/laptop-gamer-msi-thin-rtx-3050-core-i5-16gb-14tb-ssd-mouse/p/MLM36683376?pdp_filters=category:MLM1652#searchVariation=MLM36683376&position=28&search_layout=stack&type=product&tracking_id=4da51752-eacb-436f-bbd1-6a56aa8b5b31'], ['Laptop  Chuwi GemiBook Xpro gris 14\", Intel N100  8GB de RAM 256GB SSD, Intel UHD Graphics 60 Hz 1920x1080px Windows 11 Home', '11,623', 'https://www.mercadolibre.com.mx/laptop-chuwi-gemibook-xpro-gris-14-intel-n100-8gb-de-ram-256gb-ssd-intel-uhd-graphics-60-hz-1920x1080px-windows-11-home/p/MLM26203792?pdp_filters=category:MLM1652#searchVariation=MLM26203792&position=29&search_layout=stack&type=product&tracking_id=4da51752-eacb-436f-bbd1-6a56aa8b5b31'], ['Laptop Asus Vivobook Go 15 E1504 Intel Ci3 8gb 512gb Ssd Color Plata', '9,499', 'https://www.mercadolibre.com.mx/laptop-asus-vivobook-go-15-e1504-intel-ci3-8gb-512gb-ssd-color-plata/p/MLM34198177?pdp_filters=category:MLM1652#searchVariation=MLM34198177&position=30&search_layout=stack&type=product&tracking_id=4da51752-eacb-436f-bbd1-6a56aa8b5b31'], ['Laptop Hp 245 G9 Amd Ryzen 3 3250u Hasta 3,5 Ghz, Memoria Ram De 16 Gb Ddr4, Ssd 256 Gb, Windows 11 Home 64-bit, Teclado En Español, 14 Pulgadas, Negro.', '6,299', 'https://www.mercadolibre.com.mx/laptop-hp-245-g9-amd-ryzen-3-3250u-hasta-35-ghz-memoria-ram-de-16-gb-ddr4-ssd-256-gb-windows-11-home-64-bit-teclado-en-espanol-14-pulgadas-negro/p/MLM28615515?pdp_filters=category:MLM1652#searchVariation=MLM28615515&position=31&search_layout=stack&type=product&tracking_id=4da51752-eacb-436f-bbd1-6a56aa8b5b31'], ['Laptop Huawei Matebook D15 Ryzen 7 16gb + 512ssd W11 Plata Color Gris', '16,999', 'https://www.mercadolibre.com.mx/laptop-huawei-matebook-d15-ryzen-7-16gb-512ssd-w11-plata-color-gris/p/MLM25890178?pdp_filters=category:MLM1652#searchVariation=MLM25890178&position=32&search_layout=stack&type=product&tracking_id=4da51752-eacb-436f-bbd1-6a56aa8b5b31'], ['Laptop Aspire Lite Ci3 12th 14  Ips Wuxga 8gb 256gb Ssd', '8,999', 'https://www.mercadolibre.com.mx/laptop-aspire-lite-ci3-12th-14-ips-wuxga-8gb-256gb-ssd/p/MLM34508202?pdp_filters=category:MLM1652#searchVariation=MLM34508202&position=33&search_layout=stack&type=product&tracking_id=4da51752-eacb-436f-bbd1-6a56aa8b5b31'], ['Laptop Huawei Matebook D15 Core I5 11.5th 8gb +512ssd Color Plateado', '16,999', 'https://www.mercadolibre.com.mx/laptop-huawei-matebook-d15-core-i5-115th-8gb-512ssd-color-plateado/p/MLM24526061?pdp_filters=category:MLM1652#searchVariation=MLM24526061&position=34&search_layout=stack&type=product&tracking_id=4da51752-eacb-436f-bbd1-6a56aa8b5b31'], ['Ultrabook  Aocwei A5 blue 14.1\", Intel Celeron N4020  6GB de RAM 256GB SSD, Intel UHD 600 60 Hz 1920x1080px Windows 11 Pro', '8,590', 'https://www.mercadolibre.com.mx/ultrabook-aocwei-a5-blue-141-intel-celeron-n4020-6gb-de-ram-256gb-ssd-intel-uhd-600-60-hz-1920x1080px-windows-11-pro/p/MLM27176064?pdp_filters=category:MLM1652#searchVariation=MLM27176064&position=35&search_layout=stack&type=product&tracking_id=4da51752-eacb-436f-bbd1-6a56aa8b5b31'], ['Laptop Dell Inspiron 3520 Core I3 1215u Ram 8gb Ssd 512gb Color Plateado', '6,500', 'https://www.mercadolibre.com.mx/laptop-dell-inspiron-3520-core-i3-1215u-ram-8gb-ssd-512gb-color-plateado/p/MLM29241815?pdp_filters=category:MLM1652#searchVariation=MLM29241815&position=36&search_layout=stack&type=product&tracking_id=4da51752-eacb-436f-bbd1-6a56aa8b5b31'], ['Laptop Acer P449g3 Intel I5 8va Gen 8g Ram+256g Ssd Lector ', '5,507', 'https://articulo.mercadolibre.com.mx/MLM-3004611878-laptop-acer-p449g3-intel-i5-8va-gen-8g-ram256g-ssd-lector-_JM#position=56&search_layout=stack&type=item&tracking_id=4da51752-eacb-436f-bbd1-6a56aa8b5b31'], ['Ultrabook  Aocwei A6 violeta 16\", Intel Celeron N5095  12GB de RAM 512GB SSD, Gráficos Intel UHD 16 UE 60 Hz 1920x1200px Windows 11 Pro', '19,277', 'https://www.mercadolibre.com.mx/ultrabook-aocwei-a6-violeta-16-intel-celeron-n5095-12gb-de-ram-512gb-ssd-graficos-intel-uhd-16-ue-60-hz-1920x1200px-windows-11-pro/p/MLM29477683?pdp_filters=category:MLM1652#searchVariation=MLM29477683&position=37&search_layout=stack&type=product&tracking_id=4da51752-eacb-436f-bbd1-6a56aa8b5b31'], ['Laptop  Evolve III Education Maestro E-Book gray 11.6\", Intel Celeron N3450  4GB de RAM 64GB SSD, Intel HD Graphics 500 60 Hz 1366x768px Windows 10', '2,769', 'https://www.mercadolibre.com.mx/laptop-evolve-iii-education-maestro-e-book-gray-116-intel-celeron-n3450-4gb-de-ram-64gb-ssd-intel-hd-graphics-500-60-hz-1366x768px-windows-10/p/MLM18941367?pdp_filters=category:MLM1652#searchVariation=MLM18941367&position=38&search_layout=stack&type=product&tracking_id=4da51752-eacb-436f-bbd1-6a56aa8b5b31'], ['Laptop Huawei Matebook D 14 Ci3 12a 8 Gb 256 Gb Win11 Gris', '13,999', 'https://www.mercadolibre.com.mx/laptop-huawei-matebook-d-14-ci3-12a-8-gb-256-gb-win11-gris/p/MLM29503298?pdp_filters=category:MLM1652#searchVariation=MLM29503298&position=39&search_layout=stack&type=product&tracking_id=4da51752-eacb-436f-bbd1-6a56aa8b5b31'], ['Laptop  HP Envy x360 15-fe0053dx plateada táctil 15.6\", Intel Core i7 1355U  16GB de RAM 512GB SSD, Gráficos Intel Iris Xe 1920x1080px Windows 11 Home', '21,569', 'https://www.mercadolibre.com.mx/laptop-hp-envy-x360-15-fe0053dx-plateada-tactil-156-intel-core-i7-1355u-16gb-de-ram-512gb-ssd-graficos-intel-iris-xe-1920x1080px-windows-11-home/p/MLM28562822?pdp_filters=category:MLM1652#searchVariation=MLM28562822&position=40&search_layout=stack&type=product&tracking_id=4da51752-eacb-436f-bbd1-6a56aa8b5b31'], ['Laptop Hp 240 G9 Intel Core I3-1215u 12va Generación, 16gb Ram, 256gb Ssd, Windows 11 Home. Teclado En Español 14 Pulgadas Hd.', '6,934', 'https://www.mercadolibre.com.mx/laptop-hp-240-g9-intel-core-i3-1215u-12va-generacion-16gb-ram-256gb-ssd-windows-11-home-teclado-en-espanol-14-pulgadas-hd/p/MLM32175795?pdp_filters=category:MLM1652#searchVariation=MLM32175795&position=41&search_layout=stack&type=product&tracking_id=4da51752-eacb-436f-bbd1-6a56aa8b5b31'], ['Laptop Lenovo Ideapad 3 Intel Ci3 8gb 256ssd Windows 11 Color Frost blue', '13,999', 'https://www.mercadolibre.com.mx/laptop-lenovo-ideapad-3-intel-ci3-8gb-256ssd-windows-11-color-frost-blue/p/MLM25851728?pdp_filters=category:MLM1652#searchVariation=MLM25851728&position=42&search_layout=stack&type=product&tracking_id=4da51752-eacb-436f-bbd1-6a56aa8b5b31'], ['Apple Macbook Air (13 pulgadas, 2020, Chip M1, 256 GB de SSD, 8 GB de RAM) - Oro', '14,927', 'https://www.mercadolibre.com.mx/apple-macbook-air-13-pulgadas-2020-chip-m1-256-gb-de-ssd-8-gb-de-ram-oro/p/MLM17828522?pdp_filters=category:MLM1652#searchVariation=MLM17828522&position=43&search_layout=stack&type=product&tracking_id=4da51752-eacb-436f-bbd1-6a56aa8b5b31'], ['Laptop Hp 240 G9 Core I3 1215u 8gb 512gb Ssd M.2 14 ', '9,999', 'https://www.mercadolibre.com.mx/laptop-hp-240-g9-core-i3-1215u-8gb-512gb-ssd-m2-14/p/MLM34730683?pdp_filters=category:MLM1652#searchVariation=MLM34730683&position=44&search_layout=stack&type=product&tracking_id=4da51752-eacb-436f-bbd1-6a56aa8b5b31'], ['Laptop Asus Vivobook 14 L1404fa-nk286w Ryzen 3-7320u 8gb Ram 512ssd Color Negro + Mochila y Mouse', '9,999', 'https://www.mercadolibre.com.mx/laptop-asus-vivobook-14-l1404fa-nk286w-ryzen-3-7320u-8gb-ram-512ssd-color-negro-mochila-y-mouse/p/MLM28838679?pdp_filters=category:MLM1652#searchVariation=MLM28838679&position=45&search_layout=stack&type=product&tracking_id=4da51752-eacb-436f-bbd1-6a56aa8b5b31'], ['Notebook Hp Elitebook 845 G7 Amd Ryzen 5 Pro, 16gb De Ram, 256gb Ssd, Full Hd, Windows 10 Pro', '12,602', 'https://www.mercadolibre.com.mx/notebook-hp-elitebook-845-g7-amd-ryzen-5-pro-16gb-de-ram-256gb-ssd-full-hd-windows-10-pro/p/MLM35714810?pdp_filters=category:MLM1652#searchVariation=MLM35714810&position=46&search_layout=stack&type=product&tracking_id=4da51752-eacb-436f-bbd1-6a56aa8b5b31'], ['Laptop  Lenovo IdeaPad 14IGL05  platinum gray 14\", Intel Celeron N4020  4GB de RAM 128GB SSD, Intel UHD Graphics 600 1920x1080px Windows 10 Home', '3,399', 'https://www.mercadolibre.com.mx/laptop-lenovo-ideapad-14igl05-platinum-gray-14-intel-celeron-n4020-4gb-de-ram-128gb-ssd-intel-uhd-graphics-600-1920x1080px-windows-10-home/p/MLM19146198?pdp_filters=category:MLM1652#searchVariation=MLM19146198&position=47&search_layout=stack&type=product&tracking_id=4da51752-eacb-436f-bbd1-6a56aa8b5b31'], [\"Notebook Gateway 14.1' Fhd Core I3 128gb Ssd 4gb Ram W10 Amv Color Azul\", '8,999', 'https://www.mercadolibre.com.mx/notebook-gateway-141-fhd-core-i3-128gb-ssd-4gb-ram-w10-amv-color-azul/p/MLM25195146?pdp_filters=category:MLM1652#searchVariation=MLM25195146&position=48&search_layout=stack&type=product&tracking_id=4da51752-eacb-436f-bbd1-6a56aa8b5b31'], ['Laptop Lenovo Ideapad Slim 3 Core I7 Ram 16gb Ssd 1tb W11h Color Gris', '21,725', 'https://www.mercadolibre.com.mx/laptop-lenovo-ideapad-slim-3-core-i7-ram-16gb-ssd-1tb-w11h-color-gris/p/MLM34223030?pdp_filters=category:MLM1652#searchVariation=MLM34223030&position=49&search_layout=stack&type=product&tracking_id=4da51752-eacb-436f-bbd1-6a56aa8b5b31'], ['Notebook Ideapad 1 14igl7 Celeron N4020, 4gb, 128gb , Win11 Color Gris', '7,138', 'https://www.mercadolibre.com.mx/notebook-ideapad-1-14igl7-celeron-n4020-4gb-128gb-win11-color-gris/p/MLM29005170?pdp_filters=category:MLM1652#searchVariation=MLM29005170&position=50&search_layout=stack&type=product&tracking_id=4da51752-eacb-436f-bbd1-6a56aa8b5b31'], ['Ultrabook  Aocwei A7 rosa 14\", Intel Celeron N5095  8GB de RAM 256GB SSD 1TB Optane, Gráficos Intel UHD 16 UE 60 Hz 1920x1200px Windows 11 Pro', '14,269', 'https://www.mercadolibre.com.mx/ultrabook-aocwei-a7-rosa-14-intel-celeron-n5095-8gb-de-ram-256gb-ssd-1tb-optane-graficos-intel-uhd-16-ue-60-hz-1920x1200px-windows-11-pro/p/MLM27288123?pdp_filters=category:MLM1652#searchVariation=MLM27288123&position=51&search_layout=stack&type=product&tracking_id=4da51752-eacb-436f-bbd1-6a56aa8b5b31'], ['Laptop Huawei Matebook D16 Core I5 16gb Ram +1tb Ssd', '20,999', 'https://www.mercadolibre.com.mx/laptop-huawei-matebook-d16-core-i5-16gb-ram-1tb-ssd/p/MLM30929046?pdp_filters=category:MLM1652#searchVariation=MLM30929046&position=52&search_layout=stack&type=product&tracking_id=4da51752-eacb-436f-bbd1-6a56aa8b5b31'], [\"Laptop HP Victus Gaming Laptop 15-fb1013dx 15.6'' AMD Ryzen 5 7535hs 8 Ram 512 Ssd Rtx 2050 - Color Mica Silver\", '11,149', 'https://www.mercadolibre.com.mx/laptop-hp-victus-gaming-laptop-15-fb1013dx-156-amd-ryzen-5-7535hs-8-ram-512-ssd-rtx-2050-color-mica-silver/p/MLM26799697?pdp_filters=category:MLM1652#searchVariation=MLM26799697&position=53&search_layout=stack&type=product&tracking_id=4da51752-eacb-436f-bbd1-6a56aa8b5b31'], ['Laptop Dell Inspiron 15 Ryzen 5 8gb Ddr5 512gb Ssd + Mouse', '14,899', 'https://www.mercadolibre.com.mx/laptop-dell-inspiron-15-ryzen-5-8gb-ddr5-512gb-ssd-mouse/p/MLM34127345?pdp_filters=category:MLM1652#searchVariation=MLM34127345&position=54&search_layout=stack&type=product&tracking_id=4da51752-eacb-436f-bbd1-6a56aa8b5b31'], ['Laptop Hp 240 G8 Intel Core I3-1115g4 16gb De Ram Ddr4 256gb Ssd Sólido, Windows 11 Home 64 Bits, Teclado En Español.', '6,899', 'https://www.mercadolibre.com.mx/laptop-hp-240-g8-intel-core-i3-1115g4-16gb-de-ram-ddr4-256gb-ssd-solido-windows-11-home-64-bits-teclado-en-espanol/p/MLM28615511?pdp_filters=category:MLM1652#searchVariation=MLM28615511&position=3&search_layout=stack&type=product&tracking_id=4da51752-eacb-436f-bbd1-6a56aa8b5b31']]\n"
     ]
    }
   ],
   "source": [
    "print(data)"
   ]
  },
  {
   "cell_type": "markdown",
   "id": "11cbf875",
   "metadata": {},
   "source": [
    "6. Limpia y organiza los datos extraídos en un DataFrame de pandas."
   ]
  },
  {
   "cell_type": "code",
   "execution_count": 84,
   "id": "ca8eeeed",
   "metadata": {},
   "outputs": [
    {
     "data": {
      "text/html": [
       "<div>\n",
       "<style scoped>\n",
       "    .dataframe tbody tr th:only-of-type {\n",
       "        vertical-align: middle;\n",
       "    }\n",
       "\n",
       "    .dataframe tbody tr th {\n",
       "        vertical-align: top;\n",
       "    }\n",
       "\n",
       "    .dataframe thead th {\n",
       "        text-align: right;\n",
       "    }\n",
       "</style>\n",
       "<table border=\"1\" class=\"dataframe\">\n",
       "  <thead>\n",
       "    <tr style=\"text-align: right;\">\n",
       "      <th></th>\n",
       "      <th>Name</th>\n",
       "      <th>Price</th>\n",
       "      <th>Link</th>\n",
       "    </tr>\n",
       "  </thead>\n",
       "  <tbody>\n",
       "    <tr>\n",
       "      <th>0</th>\n",
       "      <td>Laptop Huawei Matebook D15 Core I5 11.5th 8gb ...</td>\n",
       "      <td>16999.0</td>\n",
       "      <td>https://click1.mercadolibre.com.mx/mclics/clic...</td>\n",
       "    </tr>\n",
       "    <tr>\n",
       "      <th>1</th>\n",
       "      <td>Laptop Huawei Matebook D16 I5 12a 8gb 512gb Ss...</td>\n",
       "      <td>16999.0</td>\n",
       "      <td>https://click1.mercadolibre.com.mx/mclics/clic...</td>\n",
       "    </tr>\n",
       "    <tr>\n",
       "      <th>2</th>\n",
       "      <td>Laptop Huawei Matebook D 14 Ci5 12a 8 Gb +512 ...</td>\n",
       "      <td>16999.0</td>\n",
       "      <td>https://www.mercadolibre.com.mx/laptop-huawei-...</td>\n",
       "    </tr>\n",
       "    <tr>\n",
       "      <th>3</th>\n",
       "      <td>Laptop Huawei Matebook D 14 Ci3 12a 8 Gb 256 G...</td>\n",
       "      <td>13999.0</td>\n",
       "      <td>https://click1.mercadolibre.com.mx/mclics/clic...</td>\n",
       "    </tr>\n",
       "    <tr>\n",
       "      <th>4</th>\n",
       "      <td>Laptop Huawei Matebook D 14 Ci5 12a 8 Gb +512 ...</td>\n",
       "      <td>16999.0</td>\n",
       "      <td>https://click1.mercadolibre.com.mx/mclics/clic...</td>\n",
       "    </tr>\n",
       "  </tbody>\n",
       "</table>\n",
       "</div>"
      ],
      "text/plain": [
       "                                                Name    Price  \\\n",
       "0  Laptop Huawei Matebook D15 Core I5 11.5th 8gb ...  16999.0   \n",
       "1  Laptop Huawei Matebook D16 I5 12a 8gb 512gb Ss...  16999.0   \n",
       "2  Laptop Huawei Matebook D 14 Ci5 12a 8 Gb +512 ...  16999.0   \n",
       "3  Laptop Huawei Matebook D 14 Ci3 12a 8 Gb 256 G...  13999.0   \n",
       "4  Laptop Huawei Matebook D 14 Ci5 12a 8 Gb +512 ...  16999.0   \n",
       "\n",
       "                                                Link  \n",
       "0  https://click1.mercadolibre.com.mx/mclics/clic...  \n",
       "1  https://click1.mercadolibre.com.mx/mclics/clic...  \n",
       "2  https://www.mercadolibre.com.mx/laptop-huawei-...  \n",
       "3  https://click1.mercadolibre.com.mx/mclics/clic...  \n",
       "4  https://click1.mercadolibre.com.mx/mclics/clic...  "
      ]
     },
     "execution_count": 84,
     "metadata": {},
     "output_type": "execute_result"
    }
   ],
   "source": [
    "#Crear un DataFrame con la información extraída\n",
    "df = pd.DataFrame(data, columns=['Name', 'Price', 'Link'])\n",
    "df['Price'] = df['Price'].str.replace(',', '').astype(float)\n",
    "df.head()"
   ]
  },
  {
   "cell_type": "code",
   "execution_count": 85,
   "id": "0b9f7329",
   "metadata": {},
   "outputs": [
    {
     "name": "stdout",
     "output_type": "stream",
     "text": [
      "              Price\n",
      "count     56.000000\n",
      "mean   12544.035714\n",
      "std     5682.694457\n",
      "min     2769.000000\n",
      "25%     7715.000000\n",
      "50%    12300.500000\n",
      "75%    16999.000000\n",
      "max    25999.000000\n"
     ]
    }
   ],
   "source": [
    "#Usé esto para ver el count, min y max de los precios\n",
    "print(df.describe())"
   ]
  },
  {
   "cell_type": "markdown",
   "id": "8af5d7a8",
   "metadata": {},
   "source": [
    "7. Realiza un análisis básico de los datos: puede ser estadístico descriptivo o alguna visualización simple.\n"
   ]
  },
  {
   "cell_type": "code",
   "execution_count": 87,
   "id": "b1c54ed7",
   "metadata": {},
   "outputs": [
    {
     "data": {
      "image/png": "[encoded data removed]",
      "text/plain": [
       "<Figure size 1000x500 with 1 Axes>"
      ]
     },
     "metadata": {},
     "output_type": "display_data"
    }
   ],
   "source": [
    "# Graficar la distribución de precios\n",
    "plt.figure(figsize=(10, 5))\n",
    "plt.hist(df['Price'], bins=8, edgecolor='k')\n",
    "plt.xlabel('Precio')\n",
    "plt.ylabel('Frecuencia')\n",
    "plt.title('Distribución de precios de laptops en MercadoLibre México')\n",
    "plt.show()"
   ]
  }
 ],
 "metadata": {
  "kernelspec": {
   "display_name": "web_scraping",
   "language": "python",
   "name": "web_scraping"
  },
  "language_info": {
   "codemirror_mode": {
    "name": "ipython",
    "version": 3
   },
   "file_extension": ".py",
   "mimetype": "text/x-python",
   "name": "python",
   "nbconvert_exporter": "python",
   "pygments_lexer": "ipython3",
   "version": "3.8.5"
  }
 },
 "nbformat": 4,
 "nbformat_minor": 5
}
